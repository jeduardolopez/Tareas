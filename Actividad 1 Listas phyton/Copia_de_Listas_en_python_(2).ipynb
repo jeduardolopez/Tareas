{
  "cells": [
    {
      "cell_type": "markdown",
      "id": "fc1dc49e",
      "metadata": {
        "id": "fc1dc49e"
      },
      "source": [
        "  <img src=\"python.png\" width='100' height='100'>  <center>  Listas en Python </center>"
      ]
    },
    {
      "cell_type": "markdown",
      "id": "57e1aa9d",
      "metadata": {
        "id": "57e1aa9d"
      },
      "source": [
        "Las listas en Python son un tipo de dato que permite almacenar datos de cualquier tipo. Son mutables y dinámicas, lo cual es la principal diferencia con los sets y las tuplas.\n",
        "\n",
        "## Crear listas Python\n",
        "\n",
        "Las listas en Python son uno de los tipos o estructuras de datos más versátiles del lenguaje, ya que permiten almacenar un conjunto arbitrario de datos. Es decir, podemos guardar en ellas prácticamente lo que sea. Si vienes de otros lenguajes de programación, se podría decir que son similares a los arrays."
      ]
    },
    {
      "cell_type": "code",
      "execution_count": null,
      "id": "ccbfef58",
      "metadata": {
        "id": "ccbfef58"
      },
      "outputs": [],
      "source": [
        "lista = [1, 2, 3, 4]"
      ]
    },
    {
      "cell_type": "code",
      "execution_count": null,
      "id": "b8351efe",
      "metadata": {
        "id": "b8351efe"
      },
      "outputs": [],
      "source": [
        "# También se puede crear usando list y pasando un objeto iterable.\n",
        "lista = list(\"1234\")"
      ]
    },
    {
      "cell_type": "markdown",
      "id": "ee7809df",
      "metadata": {
        "id": "ee7809df"
      },
      "source": [
        "Una lista sea crea con [] separando sus elementos con comas ,. Una gran ventaja es que pueden almacenar tipos de datos distintos."
      ]
    },
    {
      "cell_type": "code",
      "execution_count": null,
      "id": "b947e57f",
      "metadata": {
        "id": "b947e57f"
      },
      "outputs": [],
      "source": [
        "lista = [1, \"Hola\", 3.67, [1, 2, 3]]"
      ]
    },
    {
      "cell_type": "markdown",
      "id": "b6273e5b",
      "metadata": {
        "id": "b6273e5b"
      },
      "source": [
        "Algunas propiedades de las listas:\n",
        "\n",
        "Son ordenadas, mantienen el orden en el que han sido definidas\n",
        "Pueden ser formadas por tipos arbitrarios\n",
        "Pueden ser indexadas con [i].\n",
        "Se pueden anidar, es decir, meter una dentro de la otra.\n",
        "Son mutables, ya que sus elementos pueden ser modificados.\n",
        "Son dinámicas, ya que se pueden añadir o eliminar elementos.\n",
        "\n",
        "## Acceder y modificar listas\n",
        "\n",
        "Si tenemos una lista a con 3 elementos almacenados en ella, podemos acceder a los mismos usando corchetes y un índice, que va desde 0 a n-1 siendo n el tamaño de la lista."
      ]
    },
    {
      "cell_type": "code",
      "execution_count": null,
      "id": "f0aa256d",
      "metadata": {
        "colab": {
          "base_uri": "https://localhost:8080/"
        },
        "id": "f0aa256d",
        "outputId": "0f5eece1-1222-4cda-edce-a7e5c4e02c2f"
      },
      "outputs": [
        {
          "output_type": "stream",
          "name": "stdout",
          "text": [
            "90\n",
            "Python\n",
            "3.87\n"
          ]
        }
      ],
      "source": [
        "a = [90, \"Python\", 3.87]\n",
        "print(a[0]) #90\n",
        "print(a[1]) #Python\n",
        "print(a[2]) #3.87"
      ]
    },
    {
      "cell_type": "code",
      "execution_count": null,
      "id": "7eceecd4",
      "metadata": {
        "colab": {
          "base_uri": "https://localhost:8080/"
        },
        "id": "7eceecd4",
        "outputId": "d08a1d91-6295-4002-b277-a21f617c7ca6"
      },
      "outputs": [
        {
          "output_type": "stream",
          "name": "stdout",
          "text": [
            "Python\n"
          ]
        }
      ],
      "source": [
        "#Se puede también acceder al último elemento usando el índice [-1]\n",
        "print(a[-2]) #Python"
      ]
    },
    {
      "cell_type": "code",
      "execution_count": null,
      "id": "dbda4578",
      "metadata": {
        "colab": {
          "base_uri": "https://localhost:8080/"
        },
        "id": "dbda4578",
        "outputId": "f7074050-ace4-4c20-feba-40fd5af21d2a"
      },
      "outputs": [
        {
          "output_type": "stream",
          "name": "stdout",
          "text": [
            "[90, 'Python', 1]\n"
          ]
        }
      ],
      "source": [
        "#Y si queremos modificar un elemento de la lista, basta con asignar con el operador = el nuevo valor.\n",
        "a[2] = 1\n",
        "print(a) #[90, 'Python', 1]"
      ]
    },
    {
      "cell_type": "code",
      "execution_count": null,
      "id": "85ab32c0",
      "metadata": {
        "colab": {
          "base_uri": "https://localhost:8080/"
        },
        "id": "85ab32c0",
        "outputId": "bc6bd6f9-c155-4eac-dbb7-c64c61119465"
      },
      "outputs": [
        {
          "output_type": "stream",
          "name": "stdout",
          "text": [
            "[1, 3, 4, 5]\n"
          ]
        }
      ],
      "source": [
        "#Un elemento puede ser eliminado con diferentes métodos como veremos a continuación,\n",
        "#o con del y la lista con el índice a eliminar.\n",
        "l = [1, 2, 3, 4, 5]\n",
        "del l[1]\n",
        "print(l) #[1, 3, 4, 5]"
      ]
    },
    {
      "cell_type": "markdown",
      "id": "a6861c50",
      "metadata": {
        "id": "a6861c50"
      },
      "source": [
        "También podemos tener listas anidadas, es decir, una lista dentro de otra. Incluso podemos tener una lista dentro de otra lista y a su vez dentro de otra lista. Para acceder a sus elementos sólo tenemos que usar [] tantas veces como niveles de anidado tengamos."
      ]
    },
    {
      "cell_type": "code",
      "execution_count": null,
      "id": "de44f673",
      "metadata": {
        "colab": {
          "base_uri": "https://localhost:8080/"
        },
        "id": "de44f673",
        "outputId": "4ce55a86-b1df-410a-e9f5-1674009d5687"
      },
      "outputs": [
        {
          "output_type": "stream",
          "name": "stdout",
          "text": [
            "p\n",
            "5\n",
            "7\n"
          ]
        }
      ],
      "source": [
        "x = [1, 2, 3, ['p', 'q', [5, 6, 7]]]\n",
        "print(x[3][0])    #p\n",
        "print(x[3][2][0]) #5\n",
        "print(x[3][2][2]) #7"
      ]
    },
    {
      "cell_type": "code",
      "execution_count": null,
      "id": "7671cdb8",
      "metadata": {
        "colab": {
          "base_uri": "https://localhost:8080/"
        },
        "id": "7671cdb8",
        "outputId": "35a71794-f6db-455b-e893-88476e033086"
      },
      "outputs": [
        {
          "output_type": "stream",
          "name": "stdout",
          "text": [
            "[0, 0, 0, 4, 5, 6]\n"
          ]
        }
      ],
      "source": [
        "# Y de la misma manera podemos modificar múltiples valores de la lista a la vez usando :\n",
        "l = [1, 2, 3, 4, 5, 6]\n",
        "l[0:3] = [0, 0, 0]\n",
        "print(l) #[0, 0, 0, 4, 5, 6]"
      ]
    },
    {
      "cell_type": "code",
      "execution_count": null,
      "id": "2aeb0419",
      "metadata": {
        "colab": {
          "base_uri": "https://localhost:8080/"
        },
        "id": "2aeb0419",
        "outputId": "2eb02ce6-834b-40c7-80b4-4b9708ff983a"
      },
      "outputs": [
        {
          "output_type": "stream",
          "name": "stdout",
          "text": [
            "[1, 2, 3, 4, 5]\n"
          ]
        }
      ],
      "source": [
        "# Hay ciertos operadores como el + que pueden ser usados sobre las listas.\n",
        "l = [1, 2, 3]\n",
        "l += [4, 5]\n",
        "print(l) #[1, 2, 3, 4, 5]"
      ]
    },
    {
      "cell_type": "code",
      "execution_count": null,
      "id": "e2800592",
      "metadata": {
        "colab": {
          "base_uri": "https://localhost:8080/"
        },
        "id": "e2800592",
        "outputId": "e2bb7a5f-c756-46fc-c201-ac8ee0ca9161"
      },
      "outputs": [
        {
          "output_type": "stream",
          "name": "stdout",
          "text": [
            "1 2 3\n"
          ]
        }
      ],
      "source": [
        "#Y una funcionalidad muy interesante es que se puede asignar una lista con n elementos a n variables.\n",
        "l = [1, 2, 3]\n",
        "x, y, z = l\n",
        "print(x, y, z) #1 2 3"
      ]
    },
    {
      "cell_type": "markdown",
      "id": "4e413350",
      "metadata": {
        "id": "4e413350"
      },
      "source": [
        "## Iterar listas\n",
        "En Python es muy fácil iterar una lista, mucho más que en otros lenguajes de programación."
      ]
    },
    {
      "cell_type": "code",
      "execution_count": null,
      "id": "ebf6ff3b",
      "metadata": {
        "colab": {
          "base_uri": "https://localhost:8080/"
        },
        "id": "ebf6ff3b",
        "outputId": "1d29c17a-5ad5-4eeb-fbe7-f047843a64b2"
      },
      "outputs": [
        {
          "output_type": "stream",
          "name": "stdout",
          "text": [
            "5\n",
            "9\n",
            "10\n"
          ]
        }
      ],
      "source": [
        "lista = [5, 9, 10]\n",
        "for l in lista:\n",
        "    print(l)\n",
        "#5\n",
        "#9\n",
        "#10"
      ]
    },
    {
      "cell_type": "code",
      "execution_count": null,
      "id": "33b65f8c",
      "metadata": {
        "colab": {
          "base_uri": "https://localhost:8080/"
        },
        "id": "33b65f8c",
        "outputId": "d3ed822c-902b-4c30-80fe-bab48ade589a"
      },
      "outputs": [
        {
          "output_type": "stream",
          "name": "stdout",
          "text": [
            "0 5\n",
            "1 9\n",
            "2 10\n"
          ]
        }
      ],
      "source": [
        "# Si necesitamos un índice acompañado con la lista, que tome valores desde 0 hasta n-1, se puede hacer de la siguiente manera.\n",
        "lista = [5, 9, 10]\n",
        "for index, l in enumerate(lista):\n",
        "    print(index, l)\n",
        "#0 5\n",
        "#1 9\n",
        "#2 10"
      ]
    },
    {
      "cell_type": "code",
      "execution_count": null,
      "id": "3da34a22",
      "metadata": {
        "colab": {
          "base_uri": "https://localhost:8080/"
        },
        "id": "3da34a22",
        "outputId": "55343244-4d34-40b5-cbc2-b89638e0c4b1"
      },
      "outputs": [
        {
          "output_type": "stream",
          "name": "stdout",
          "text": [
            "5 Jazz\n",
            "9 Rock\n",
            "10 Djent\n"
          ]
        }
      ],
      "source": [
        "# O si tenemos dos listas y las queremos iterar a la vez, también es posible hacerlo.\n",
        "lista1 = [5, 9, 10]\n",
        "lista2 = [\"Jazz\", \"Rock\", \"Djent\"]\n",
        "for l1, l2 in zip(lista1, lista2):\n",
        "    print(l1, l2)\n",
        "#5 Jazz\n",
        "#9 Rock\n",
        "#10 Djent"
      ]
    },
    {
      "cell_type": "code",
      "execution_count": null,
      "id": "cb1d6d84",
      "metadata": {
        "colab": {
          "base_uri": "https://localhost:8080/"
        },
        "id": "cb1d6d84",
        "outputId": "2f75f06e-d62b-446a-bc59-e9b5d930709c"
      },
      "outputs": [
        {
          "output_type": "stream",
          "name": "stdout",
          "text": [
            "5\n",
            "9\n",
            "10\n"
          ]
        }
      ],
      "source": [
        "#Y por supuesto, también se pueden iterar las listas usando los índices como hemos visto al principio,\n",
        "# y haciendo uso de len(), que nos devuelve la longitud de la lista.\n",
        "lista1 = [5, 9, 10]\n",
        "for i in range(0, len(lista)):\n",
        "    print(lista1[i])\n",
        "#5\n",
        "#9\n",
        "#10"
      ]
    },
    {
      "cell_type": "markdown",
      "id": "7e2c1ed9",
      "metadata": {
        "id": "7e2c1ed9"
      },
      "source": [
        "## Métodos listas\n",
        "append(<obj>)\n",
        "El método append() añade un elemento al final de la lista."
      ]
    },
    {
      "cell_type": "code",
      "execution_count": null,
      "id": "47c7810c",
      "metadata": {
        "colab": {
          "base_uri": "https://localhost:8080/"
        },
        "id": "47c7810c",
        "outputId": "068c41ba-68f9-49ef-91ed-d16b2b9ce2f7"
      },
      "outputs": [
        {
          "output_type": "stream",
          "name": "stdout",
          "text": [
            "[1, 2, 3]\n"
          ]
        }
      ],
      "source": [
        "l = [1, 2]\n",
        "l.append(3)\n",
        "print(l) #[1, 2, 3]"
      ]
    },
    {
      "cell_type": "code",
      "execution_count": null,
      "id": "ddb04f03",
      "metadata": {
        "colab": {
          "base_uri": "https://localhost:8080/"
        },
        "id": "ddb04f03",
        "outputId": "dd58e4ba-3efa-4389-9155-58d5c2a6a49d"
      },
      "outputs": [
        {
          "output_type": "stream",
          "name": "stdout",
          "text": [
            "[1, 2, 3]\n"
          ]
        }
      ],
      "source": [
        "# extend(<iterable>)\n",
        "# El método extend() permite añadir una lista a la lista inicial.\n",
        "l = [1, 3]\n",
        "l.insert(1, 2)\n",
        "print(l) #[1, 2, 3]"
      ]
    },
    {
      "cell_type": "code",
      "execution_count": null,
      "id": "a300fb23",
      "metadata": {
        "colab": {
          "base_uri": "https://localhost:8080/"
        },
        "id": "a300fb23",
        "outputId": "c4edf9ee-0928-4020-ee15-98b458af4650"
      },
      "outputs": [
        {
          "output_type": "stream",
          "name": "stdout",
          "text": [
            "[1, 2]\n"
          ]
        }
      ],
      "source": [
        "#remove(<obj>)\n",
        "#El método remove() recibe como argumento un objeto y lo borra de la lista.\n",
        "l = [1, 2, 3]\n",
        "l.remove(3)\n",
        "print(l) #[1, 2]"
      ]
    },
    {
      "cell_type": "code",
      "execution_count": null,
      "id": "ab50b69b",
      "metadata": {
        "colab": {
          "base_uri": "https://localhost:8080/"
        },
        "id": "ab50b69b",
        "outputId": "ea547fe1-b7eb-4481-8b66-675904e1fd60"
      },
      "outputs": [
        {
          "output_type": "stream",
          "name": "stdout",
          "text": [
            "[1, 2]\n"
          ]
        }
      ],
      "source": [
        "#pop(index=-1)\n",
        "# El método pop() elimina por defecto el último elemento de la lista,\n",
        "# pero si se pasa como parámetro un índice permite borrar elementos diferentes al último.\n",
        "l = [1, 2, 3]\n",
        "l.pop()\n",
        "print(l) #[1, 2]"
      ]
    },
    {
      "cell_type": "code",
      "execution_count": null,
      "id": "ece12439",
      "metadata": {
        "colab": {
          "base_uri": "https://localhost:8080/"
        },
        "id": "ece12439",
        "outputId": "02e49752-6204-426a-e956-3d0857a4cf64"
      },
      "outputs": [
        {
          "output_type": "stream",
          "name": "stdout",
          "text": [
            "[3, 2, 1]\n"
          ]
        }
      ],
      "source": [
        "# reverse()\n",
        "# El método reverse() inverte el órden de la lista.\n",
        "l = [1, 2, 3]\n",
        "l.reverse()\n",
        "print(l) #[3, 2, 1]"
      ]
    },
    {
      "cell_type": "code",
      "execution_count": null,
      "id": "6168bb63",
      "metadata": {
        "colab": {
          "base_uri": "https://localhost:8080/"
        },
        "id": "6168bb63",
        "outputId": "c518a6e5-917f-4b45-d8a6-ea7c8be1442b"
      },
      "outputs": [
        {
          "output_type": "stream",
          "name": "stdout",
          "text": [
            "[1, 2, 3]\n"
          ]
        }
      ],
      "source": [
        "# sort()\n",
        "# El método sort() ordena los elementos de menos a mayor por defecto.\n",
        "l = [3, 1, 2]\n",
        "l.sort()\n",
        "print(l) #[1, 2, 3]"
      ]
    },
    {
      "cell_type": "code",
      "execution_count": null,
      "id": "d238f3e3",
      "metadata": {
        "colab": {
          "base_uri": "https://localhost:8080/"
        },
        "id": "d238f3e3",
        "outputId": "b0971196-8991-4c26-b225-bb97496db8c1"
      },
      "outputs": [
        {
          "output_type": "stream",
          "name": "stdout",
          "text": [
            "[3, 2, 1]\n"
          ]
        }
      ],
      "source": [
        "# Y también permite ordenar de mayor a menor si se pasa como parámetro reverse=True\n",
        "l = [3, 1, 2]\n",
        "l.sort(reverse=True)\n",
        "print(l) #[3, 2, 1]"
      ]
    },
    {
      "cell_type": "code",
      "execution_count": null,
      "id": "06c643c9",
      "metadata": {
        "colab": {
          "base_uri": "https://localhost:8080/"
        },
        "id": "06c643c9",
        "outputId": "7c61f968-124f-4766-ea00-f81b77d6869f"
      },
      "outputs": [
        {
          "output_type": "stream",
          "name": "stdout",
          "text": [
            "1\n"
          ]
        }
      ],
      "source": [
        "# index(<obj>[,index])\n",
        "#El método index() recibe como parámetro un objeto y devuelve el índice de su primera aparición.\n",
        "#Como hemos visto en otras ocasiones, el índice del primer elemento es el 0.\n",
        "l = [\"Periphery\", \"Intervals\", \"Monuments\"]\n",
        "print(l.index(\"Intervals\"))"
      ]
    },
    {
      "cell_type": "code",
      "execution_count": null,
      "id": "30439223",
      "metadata": {
        "colab": {
          "base_uri": "https://localhost:8080/"
        },
        "id": "30439223",
        "outputId": "714e1047-9ba9-40e2-f1a2-93255ed0e594"
      },
      "outputs": [
        {
          "output_type": "stream",
          "name": "stdout",
          "text": [
            "5\n"
          ]
        }
      ],
      "source": [
        "#También permite introducir un parámetro opcional que representa el índice desde el que comenzar la búsqueda del objeto.\n",
        "#Es como si ignorara todo lo que hay antes de ese índice para la búsqueda, en este caso el 4.\n",
        "l = [1, 1, 1, 1, 2, 1, 4, 5]\n",
        "print(l.index(1, 4)) #5"
      ]
    },
    {
      "cell_type": "markdown",
      "id": "48610ceb",
      "metadata": {
        "id": "48610ceb"
      },
      "source": [
        "## METACOGNICIÓN"
      ]
    },
    {
      "cell_type": "code",
      "execution_count": null,
      "id": "4482502e",
      "metadata": {
        "id": "4482502e"
      },
      "outputs": [],
      "source": [
        "#Elabora un programa que lea un arreglo de 10 posiciones que contenga las edades de 10 de sus compañeros,\n",
        "#calcule el promedio de las edades, obteng a la edad mayor y la edad menor. Al final imprima todos los elementos de la lista"
      ]
    },
    {
      "cell_type": "code",
      "source": [],
      "metadata": {
        "id": "mV9Dis9gkVCZ"
      },
      "id": "mV9Dis9gkVCZ",
      "execution_count": null,
      "outputs": []
    },
    {
      "cell_type": "code",
      "source": [
        "edades = []\n",
        "\n",
        "for i in range(10):\n",
        "    edad = int(input(f\"Ingrese la edad del compañero {i+1}:\"))\n",
        "    edades.append(edad)\n",
        "\n",
        "\n",
        "promedio = sum(edades) / len(edades)\n",
        "edad_mayor = max(edades)\n",
        "edad_menor = min(edades)\n",
        "\n",
        "print(f\"El promedio de edades es: {promedio}\")\n",
        "print(f\"La edad mayor es: {edad_mayor}\")\n",
        "print(f\"La edad menor es: {edad_menor}\")\n"
      ],
      "metadata": {
        "colab": {
          "base_uri": "https://localhost:8080/"
        },
        "id": "dAllG3TStqmN",
        "outputId": "1d85f8f2-20b6-4567-b711-afd68e3434e7"
      },
      "execution_count": null,
      "outputs": [
        {
          "output_type": "stream",
          "name": "stdout",
          "text": [
            "Ingrese la edad del compañero 1:16\n",
            "Ingrese la edad del compañero 2:16\n",
            "Ingrese la edad del compañero 3:17\n",
            "Ingrese la edad del compañero 4:16\n",
            "Ingrese la edad del compañero 5:17\n",
            "Ingrese la edad del compañero 6:16\n",
            "Ingrese la edad del compañero 7:17\n",
            "Ingrese la edad del compañero 8:20\n",
            "Ingrese la edad del compañero 9:16\n",
            "Ingrese la edad del compañero 10:17\n",
            "El promedio de edades es: 16.8\n",
            "La edad mayor es: 20\n",
            "La edad menor es: 16\n"
          ]
        }
      ],
      "id": "dAllG3TStqmN"
    },
    {
      "cell_type": "code",
      "execution_count": null,
      "id": "767134d7",
      "metadata": {
        "id": "767134d7"
      },
      "outputs": [],
      "source": [
        "#Elabore un programa que lea un arreglo de 14 posiciones que contenga los sueldos de los trabajadores de una empresa\n",
        "#agregue el sueldo de un empleado más de $2,500.00, Calcule la nomina total (suma de todos los sueldos) ordene el arreglo\n",
        "#Ordene los datos, elimine el primer elemento de la fila, Al final imprima todos los elementos de la lista"
      ]
    },
    {
      "cell_type": "code",
      "source": [
        "sueldos = []\n",
        "for i in range(14):\n",
        "    sueldo = float(input(f\"Ingrese el sueldo del trabajador {i+1}: \"))\n",
        "    sueldos.append(sueldo)\n",
        "\n",
        "nuevo_sueldo = float(input(\"Ingrese el sueldo del nuevo empleado: \"))\n",
        "if nuevo_sueldo > 2500.00:\n",
        "    sueldos.append(nuevo_sueldo)\n",
        "else:\n",
        "    print(\"El sueldo del nuevo empleado debe ser más de $2,500.00. No se ha agregado.\")\n",
        "\n",
        "nomina_total = sum(sueldos)\n",
        "\n",
        "sueldos.sort()\n",
        "\n",
        "sueldos.pop(0)\n",
        "\n",
        "print(f\"\\nNómina total: ${nomina_total:.2f}\")\n",
        "print(\"Sueldos ordenados y sin el primer elemento:\")\n",
        "for sueldo in sueldos:\n",
        "    print(f\"${sueldo:.2f}\")"
      ],
      "metadata": {
        "colab": {
          "base_uri": "https://localhost:8080/"
        },
        "id": "IhFW6UOflY_Y",
        "outputId": "e7a2a832-f223-4c79-cb02-e8b874a2e071"
      },
      "id": "IhFW6UOflY_Y",
      "execution_count": null,
      "outputs": [
        {
          "output_type": "stream",
          "name": "stdout",
          "text": [
            "Ingrese el sueldo del trabajador 1: 2000\n",
            "Ingrese el sueldo del trabajador 2: 1800\n",
            "Ingrese el sueldo del trabajador 3: 1900\n",
            "Ingrese el sueldo del trabajador 4: 1950\n",
            "Ingrese el sueldo del trabajador 5: 1850\n",
            "Ingrese el sueldo del trabajador 6: 1950\n",
            "Ingrese el sueldo del trabajador 7: 1850\n",
            "Ingrese el sueldo del trabajador 8: 1600\n",
            "Ingrese el sueldo del trabajador 9: 1950\n",
            "Ingrese el sueldo del trabajador 10: 2100\n",
            "Ingrese el sueldo del trabajador 11: 1750\n",
            "Ingrese el sueldo del trabajador 12: 1800\n",
            "Ingrese el sueldo del trabajador 13: 1750\n",
            "Ingrese el sueldo del trabajador 14: 1950\n",
            "Ingrese el sueldo del nuevo empleado: 2700\n",
            "\n",
            "Nómina total: $28900.00\n",
            "Sueldos ordenados y sin el primer elemento:\n",
            "$1750.00\n",
            "$1750.00\n",
            "$1800.00\n",
            "$1800.00\n",
            "$1850.00\n",
            "$1850.00\n",
            "$1900.00\n",
            "$1950.00\n",
            "$1950.00\n",
            "$1950.00\n",
            "$1950.00\n",
            "$2000.00\n",
            "$2100.00\n",
            "$2700.00\n"
          ]
        }
      ]
    }
  ],
  "metadata": {
    "kernelspec": {
      "display_name": "Python 3 (ipykernel)",
      "language": "python",
      "name": "python3"
    },
    "language_info": {
      "codemirror_mode": {
        "name": "ipython",
        "version": 3
      },
      "file_extension": ".py",
      "mimetype": "text/x-python",
      "name": "python",
      "nbconvert_exporter": "python",
      "pygments_lexer": "ipython3",
      "version": "3.9.13"
    },
    "colab": {
      "provenance": []
    }
  },
  "nbformat": 4,
  "nbformat_minor": 5
}